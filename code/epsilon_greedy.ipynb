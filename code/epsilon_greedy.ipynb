{
 "cells": [
  {
   "cell_type": "code",
   "execution_count": 21,
   "metadata": {},
   "outputs": [],
   "source": [
    "import numpy as np\n",
    "import numpy as np\n",
    "from itertools import permutations\n",
    "import random\n",
    "import matplotlib.pyplot as plt\n"
   ]
  },
  {
   "cell_type": "markdown",
   "metadata": {},
   "source": [
    "# $\\epsilon$-Greedy Algorithm | simoultaneous offers "
   ]
  },
  {
   "cell_type": "code",
   "execution_count": 22,
   "metadata": {},
   "outputs": [],
   "source": [
    "T = 100000\n",
    "epsilon_0 = 0.01\n",
    "eta = 0.05\n",
    "\n",
    "## Agents' Initialization\n",
    "## 5 agents in total, no sex distinction, true values \n",
    "N = 6     # Number of Agents \n",
    "\n",
    "epsilon_0 = 0.5  # initial probability of exploration\n",
    "K = np.zeros(N)                                     \n",
    "\n",
    "# Mean and std deviation of the noise signals (sampled form a std Normal )\n",
    "noise_mean = 0 \n",
    "noise_std = 0.5"
   ]
  },
  {
   "cell_type": "code",
   "execution_count": 23,
   "metadata": {},
   "outputs": [],
   "source": [
    "## Initialization prior beliefs matrix \n",
    "## consistent with the priors of thompson sampling,\n",
    "## we use identical initialization -- (no prior knowledge) and  0 values on the diagonal\n",
    "\n",
    "np.random.seed(25)\n",
    "Q = 0.5*np.ones((N, N))\n",
    "np.fill_diagonal(Q, 0)  "
   ]
  },
  {
   "cell_type": "code",
   "execution_count": 24,
   "metadata": {},
   "outputs": [],
   "source": [
    "## Initialization prior beliefs of being accepted probailities matrix\n",
    "np.random.seed(25)\n",
    "p = np.random.uniform(0, 1, size=(N, N))\n",
    "np.fill_diagonal(p, 1)  "
   ]
  },
  {
   "cell_type": "code",
   "execution_count": 25,
   "metadata": {},
   "outputs": [],
   "source": [
    "v = np.random.uniform(0, 0.99, (6,6))\n",
    "N = 6       # Number of Agents \n",
    "np.fill_diagonal(v, 0)\n",
    "\n",
    "v[0,1] = 1\n",
    "v[1,0] = 1\n",
    "\n",
    "v[2, 3] = 1\n",
    "v[3,2] = 1\n",
    "\n",
    "v[4,5] = 1\n",
    "v[5,4] = 1\n"
   ]
  },
  {
   "cell_type": "code",
   "execution_count": 26,
   "metadata": {},
   "outputs": [],
   "source": [
    "def greedy_proposal(i, Q , p ):\n",
    "    '''This function returns the the index of agents to propose \n",
    "    under the greedy approach, for agent i '''\n",
    "\n",
    "    q = np.array(Q[i])\n",
    "    p_i = np.array(p[i])\n",
    "\n",
    "    return np.argmax(p_i*q)"
   ]
  },
  {
   "cell_type": "code",
   "execution_count": 27,
   "metadata": {},
   "outputs": [],
   "source": [
    "def invert_offers(offers):\n",
    "    ' function to invert the offers being made '\n",
    "    inverted_offers = {}\n",
    "    for proposer, recipient in offers.items():\n",
    "        inverted_offers.setdefault(recipient, []).append(proposer)\n",
    "    return inverted_offers"
   ]
  },
  {
   "cell_type": "code",
   "execution_count": 29,
   "metadata": {},
   "outputs": [],
   "source": [
    "def greedy_decision(i, offers, Q):\n",
    "    'Function that decides wich to accept the offer to greedy decision'\n",
    "\n",
    "    q = np.array(Q[i, offers])\n",
    "    return offers[np.argmax(q)]"
   ]
  },
  {
   "cell_type": "code",
   "execution_count": 30,
   "metadata": {},
   "outputs": [
    {
     "ename": "TypeError",
     "evalue": "greedy_decision() missing 1 required positional argument: 'Q'",
     "output_type": "error",
     "traceback": [
      "\u001b[0;31m---------------------------------------------------------------------------\u001b[0m",
      "\u001b[0;31mTypeError\u001b[0m                                 Traceback (most recent call last)",
      "Input \u001b[0;32mIn [30]\u001b[0m, in \u001b[0;36m<cell line: 1>\u001b[0;34m()\u001b[0m\n\u001b[1;32m     33\u001b[0m  m \u001b[38;5;241m=\u001b[39m {}\n\u001b[1;32m     35\u001b[0m  \u001b[38;5;28;01mfor\u001b[39;00m j \u001b[38;5;129;01min\u001b[39;00m offers_recievers\u001b[38;5;241m.\u001b[39mkeys():\n\u001b[0;32m---> 36\u001b[0m      m[j] \u001b[38;5;241m=\u001b[39m \u001b[43mgreedy_decision\u001b[49m\u001b[43m(\u001b[49m\u001b[43mj\u001b[49m\u001b[43m,\u001b[49m\u001b[43m \u001b[49m\u001b[43moffers_recievers\u001b[49m\u001b[43m[\u001b[49m\u001b[43mj\u001b[49m\u001b[43m]\u001b[49m\u001b[43m)\u001b[49m\n\u001b[1;32m     37\u001b[0m      Q[m[j], j] \u001b[38;5;241m=\u001b[39m  Q[m[j], j]\u001b[38;5;241m/\u001b[39m\u001b[38;5;241m2\u001b[39m\u001b[38;5;241m+\u001b[39m  (v[j, m[j]] \u001b[38;5;241m+\u001b[39m np\u001b[38;5;241m.\u001b[39mrandom\u001b[38;5;241m.\u001b[39mnormal(noise_mean, noise_std, \u001b[38;5;241m1\u001b[39m))\u001b[38;5;241m/\u001b[39m\u001b[38;5;241m2\u001b[39m \u001b[38;5;66;03m## Update the Q of the observed value - if matches take place\u001b[39;00m\n\u001b[1;32m     39\u001b[0m \u001b[38;5;66;03m# print('matches \\n')\u001b[39;00m\n\u001b[1;32m     40\u001b[0m  \u001b[38;5;66;03m#print(m)\u001b[39;00m\n\u001b[1;32m     41\u001b[0m \n\u001b[1;32m     42\u001b[0m  \u001b[38;5;66;03m## Update of the probabilities according to the decisions \u001b[39;00m\n",
      "\u001b[0;31mTypeError\u001b[0m: greedy_decision() missing 1 required positional argument: 'Q'"
     ]
    }
   ],
   "source": [
    "for t in range(T): \n",
    "\n",
    "    ## Each agent does offers \n",
    "\n",
    "    offers = {}\n",
    "    epsilon = epsilon_0**(t/1000)\n",
    "\n",
    "    for i in range(N):\n",
    "        if random.random() < epsilon:\n",
    "        # Exploration: with probability epsilon\n",
    "            offers[i] = random.choice(list(range(N)))\n",
    "        else:\n",
    "        # Greedy: with the remaining probability (1 - epsilon)\n",
    "            offers[i] = greedy_proposal(i)\n",
    "        \n",
    "\n",
    "    #print('Offers \\n')\n",
    "\n",
    "    # print(offers)\n",
    "\n",
    "\n",
    "    ## Each agent that recieved the offer - decides wheter to accept\n",
    "    ## they do the greedy decision  \n",
    "        \n",
    "    offers_recievers = invert_offers(offers)\n",
    "\n",
    "    #print('offers recievers \\n')\n",
    "\n",
    "    # print(offers_recievers)\n",
    "\n",
    "    ## stores the matches \n",
    "\n",
    "    m = {}\n",
    "\n",
    "    for j in offers_recievers.keys():\n",
    "        m[j] = greedy_decision(j, offers_recievers[j])\n",
    "        Q[m[j], j] =  Q[m[j], j]/2+  (v[j, m[j]] + np.random.normal(noise_mean, noise_std, 1))/2 ## Update the Q of the observed value - if matches take place\n",
    "    \n",
    "   # print('matches \\n')\n",
    "    #print(m)\n",
    "\n",
    "    ## Update of the probabilities according to the decisions \n",
    "\n",
    "    for i in range(N):\n",
    "        if i in m.items(): \n",
    "            k = next((key for key, value in m.items() if value == i), None)\n",
    "            p[i, k] = (1-eta)*p[i, k] + eta \n",
    "        else:\n",
    "            k = offers[i]  # who they offered \n",
    "            p[i, k] = (1-eta)*p[i, k] \n",
    "\n",
    "        \n",
    "       ## No need to update the probability of being chosen in this setting  \n",
    "\n",
    "        #if i in m.keys(): \n",
    "        #   k = m[i]   \n",
    "        #   c[i, k] = (1-eta)*c[i, k] + eta \n",
    "        # else:\n",
    "        #    c[i, k] = (1-eta)*c[i, k] + eta    "
   ]
  },
  {
   "cell_type": "code",
   "execution_count": 31,
   "metadata": {},
   "outputs": [],
   "source": [
    "def initialize_value_matrix(N):\n",
    "    # Create an NxN matrix with random values between 5 and 9\n",
    "    matrix = np.random.uniform(0, 0.99, (N, N))\n",
    "    \n",
    "    # Fill the diagonal with 0\n",
    "    np.fill_diagonal(matrix, 0)\n",
    "    \n",
    "    # Set specific symmetric pairs to 1\n",
    "    for i in range(0, N, 2):\n",
    "        if i+1 < N:\n",
    "            matrix[i, i+1] = 1\n",
    "            matrix[i+1, i] = 1\n",
    "    \n",
    "    return matrix"
   ]
  },
  {
   "cell_type": "code",
   "execution_count": 32,
   "metadata": {},
   "outputs": [],
   "source": [
    "def initialize_prior_Q(N):\n",
    "    'Initializes the prior values probabilities -- No information uniform initialization'\n",
    "    # Q = 0.5*np.ones((N, N))\n",
    "    # np.fill_diagonal(Q, 0)  \n",
    "    \n",
    "    Q = np.random.uniform(0, 1, size=(N, N))\n",
    "    np.fill_diagonal(Q, 0) \n",
    "\n",
    "    return Q"
   ]
  },
  {
   "cell_type": "code",
   "execution_count": 33,
   "metadata": {},
   "outputs": [],
   "source": [
    "def initialize_prior_p(N):\n",
    "    'Initializes the prior probabilities p  of being accepted -- No information 0.5 initialization'\n",
    "\n",
    "    # p = np.ones((N, N))\n",
    "    # np.fill_diagonal(p, 1) \n",
    "    p = np.random.uniform(0, 1, size=(N, N))\n",
    "    np.fill_diagonal(p, 1)  \n",
    "    return p"
   ]
  },
  {
   "cell_type": "code",
   "execution_count": 34,
   "metadata": {},
   "outputs": [],
   "source": [
    "def observed_pairs(matrix):\n",
    "    ' Given the binary allocation matrix returns the true observed pairings '\n",
    "    n = len(matrix)\n",
    "    result = []\n",
    "    for i in range(n):\n",
    "        for j in range(i+1, n):\n",
    "            if matrix[i][j] == 1 and matrix[j][i] == 1:\n",
    "                result.append((i, j))\n",
    "    return result"
   ]
  },
  {
   "cell_type": "code",
   "execution_count": 47,
   "metadata": {},
   "outputs": [],
   "source": [
    "def epsilon_greedy(T, N, e = epsilon_0, eta = eta):\n",
    "\n",
    "    v = initialize_value_matrix(N)      # True values\n",
    "    Q = initialize_prior_Q(N)           # prior of values\n",
    "    p = initialize_prior_p(N)           # prior of probabilities \n",
    "\n",
    "    ## stable matchings set \n",
    "\n",
    "    stable_matching = set((x-1,x) for x in range(1, N, 2))\n",
    "    n_stable_couples = []\n",
    "    tau = []\n",
    "\n",
    "\n",
    "    for t in range(T): \n",
    "\n",
    "        ## Proposal phase \n",
    "        offers = {}\n",
    "        epsilon = e**(t/1000)\n",
    "\n",
    "        for i in range(N):\n",
    "            if random.random() < epsilon:\n",
    "            # Exploration: with probability epsilon\n",
    "                offers[i] = random.choice(list(range(N)))\n",
    "                \n",
    "            else:\n",
    "            # Greedy: with the remaining probability (1 - epsilon)\n",
    "                offers[i] = greedy_proposal(i, Q, p)\n",
    "            \n",
    "        ## Acceptance phase\n",
    "        offers_recievers = invert_offers(offers)\n",
    "        m_matrix = np.zeros((N, N)) \n",
    "\n",
    "        for j in offers_recievers.keys():\n",
    "            max_index = greedy_decision(j, offers_recievers[j], Q)\n",
    "            m_matrix[j, max_index] = 1\n",
    "\n",
    "        ## Updates \n",
    "        for i in range(N):\n",
    "            for j in range(N):\n",
    "                if (m_matrix[i, j] == 1) and (m_matrix[j, i] ==1):\n",
    "                    ## Update the Q of the observed value - if matches take place\n",
    "                    Q[i, j] =  Q[i, j]/2 +  (v[i, j]/2 + np.random.normal(noise_mean, noise_std, 1))/2 \n",
    "                    ## update the probability of being accepted \n",
    "                    p[i, j] = (1-eta)*p[i, j] + eta \n",
    "\n",
    "                else:\n",
    "                    ## update the probability of not being accepted\n",
    "                    p[i, j] = (1-eta)*p[i, j] \n",
    "\n",
    "        n_stable_couples.append(len( set(observed_pairs(m_matrix)) & stable_matching ))\n",
    "        tau.append(1 if set(observed_pairs(m_matrix)) == stable_matching else 0 )\n",
    "\n",
    "    return observed_pairs(m_matrix), n_stable_couples, tau\n"
   ]
  },
  {
   "cell_type": "code",
   "execution_count": 48,
   "metadata": {},
   "outputs": [],
   "source": [
    "z, n, t= epsilon_greedy(30000, 6, e = 0.9)"
   ]
  },
  {
   "cell_type": "code",
   "execution_count": 46,
   "metadata": {},
   "outputs": [
    {
     "data": {
      "text/plain": [
       "[<matplotlib.lines.Line2D at 0x1370c5e10>]"
      ]
     },
     "execution_count": 46,
     "metadata": {},
     "output_type": "execute_result"
    },
    {
     "data": {
      "image/png": "[encoded data removed]",
      "text/plain": [
       "<Figure size 432x288 with 1 Axes>"
      ]
     },
     "metadata": {
      "needs_background": "light"
     },
     "output_type": "display_data"
    }
   ],
   "source": [
    "plt.plot(n)"
   ]
  },
  {
   "cell_type": "code",
   "execution_count": 121,
   "metadata": {},
   "outputs": [],
   "source": [
    "rounds = 100\n",
    "N_agents = np.arange(6, 20, 2)"
   ]
  },
  {
   "cell_type": "code",
   "execution_count": 122,
   "metadata": {},
   "outputs": [],
   "source": [
    "result_simulation = {key: 0 for key in N_agents}\n",
    "T = 10000\n",
    "for a in N_agents:\n",
    "    for n in range(rounds): \n",
    "\n",
    "        #stable_matching = [(i, i+1) for i in range(0, a, 2)]\n",
    "        matching, n, t  = epsilon_greedy(T, a)\n",
    "    \n",
    "        if  t[-1] == 1: \n",
    "            result_simulation[a] += 1 "
   ]
  },
  {
   "cell_type": "code",
   "execution_count": 123,
   "metadata": {},
   "outputs": [
    {
     "data": {
      "image/png": "[encoded data removed]",
      "text/plain": [
       "<Figure size 720x432 with 1 Axes>"
      ]
     },
     "metadata": {
      "needs_background": "light"
     },
     "output_type": "display_data"
    }
   ],
   "source": [
    "import matplotlib.pyplot as plt\n",
    "\n",
    "# Provided dictionary\n",
    "\n",
    "plt.figure(figsize=(10, 6))\n",
    "\n",
    "plt.plot(result_simulation.keys(), result_simulation.values(), marker='o', linestyle='-', color='blue')\n",
    "plt.xlabel('Number of agents')\n",
    "plt.ylabel('% stable matchings')\n",
    "plt.title('Plot of percentage of Stable matching achieved')\n",
    "plt.grid(True)\n",
    "plt.show()"
   ]
  },
  {
   "cell_type": "markdown",
   "metadata": {},
   "source": [
    "## $\\epsilon$- variants simulations -- Das Kamenica paper "
   ]
  },
  {
   "cell_type": "code",
   "execution_count": 124,
   "metadata": {},
   "outputs": [],
   "source": [
    "result_simulation_eps = {key: 0 for key in N_agents}\n",
    "eps_values = np.linspace(0.1, 1, 10)\n",
    "T = 10000\n",
    "\n",
    "for e  in eps_values:\n",
    "    for n in range(rounds): \n",
    "\n",
    "        matching, n, t  = epsilon_greedy(T, 8, e)\n",
    "    \n",
    "        if  t[-1] == 1: \n",
    "            result_simulation_eps[e] += 1 "
   ]
  },
  {
   "cell_type": "code",
   "execution_count": 125,
   "metadata": {},
   "outputs": [
    {
     "data": {
      "image/png": "[encoded data removed]",
      "text/plain": [
       "<Figure size 720x432 with 1 Axes>"
      ]
     },
     "metadata": {
      "needs_background": "light"
     },
     "output_type": "display_data"
    }
   ],
   "source": [
    "plt.figure(figsize=(10, 6))\n",
    "\n",
    "plt.plot(result_simulation_eps.keys(), result_simulation_eps.values(), marker='o', linestyle='-', color='blue')\n",
    "plt.xlabel('$\\epsilon$')\n",
    "plt.ylabel('% stable matchings')\n",
    "plt.title('Plot of percentage of Stable matching achieved')\n",
    "plt.grid(True)\n",
    "plt.show()"
   ]
  },
  {
   "cell_type": "markdown",
   "metadata": {},
   "source": [
    "## $\\epsilon$-Greedy no probabilities"
   ]
  },
  {
   "cell_type": "code",
   "execution_count": 143,
   "metadata": {},
   "outputs": [],
   "source": [
    "def epsilon_greedy_no_prob(T, N, e = epsilon_0, eta = eta):\n",
    "\n",
    "    v = initialize_value_matrix(N)      # True values\n",
    "    Q = initialize_prior_Q(N)           # prior of values\n",
    "    p = initialize_prior_p(N)           # prior of probabilities \n",
    "\n",
    "    ## stable matchings set \n",
    "\n",
    "    stable_matching = set((x-1,x) for x in range(1, N, 2))\n",
    "    n_stable_couples = []\n",
    "    tau = []\n",
    "\n",
    "\n",
    "    for t in range(T): \n",
    "\n",
    "        ## Proposal phase \n",
    "        offers = {}\n",
    "        epsilon = e**(t/1000)\n",
    "\n",
    "        for i in range(N):\n",
    "            if random.random() < epsilon:\n",
    "            # Exploration: with probability epsilon\n",
    "                offers[i] = random.choice(list(range(N)))\n",
    "            else:\n",
    "            # Greedy: with the remaining probability (1 - epsilon)\n",
    "                offers[i] = np.argmax(Q[i])\n",
    "            \n",
    "\n",
    "        ## Acceptance phase\n",
    "        offers_recievers = invert_offers(offers)\n",
    "        m_matrix = np.zeros((N, N)) \n",
    "\n",
    "        for j in offers_recievers.keys():\n",
    "            max_index = greedy_decision(j, offers_recievers[j], Q)\n",
    "            m_matrix[j, max_index] = 1\n",
    "\n",
    "        ## Updates \n",
    "        for i in range(N):\n",
    "            for j in range(N):\n",
    "                if (m_matrix[i, j] == 1) and (m_matrix[j, i] ==1):\n",
    "                    ## Update the Q of the observed value - if matches take place\n",
    "\n",
    "                    Q[i, j] =  Q[i, j]/2 +  (v[i, j]/2 + np.random.normal(noise_mean, noise_std, 1))/2 \n",
    "                    ## update the probability of being accepted \n",
    "                    #p[i, j] = (1-eta)*p[i, j] + eta \n",
    "\n",
    "                #else:\n",
    "                    ## update the probability of not being accepted\n",
    "                    #p[i, k] = (1-eta)*p[i, k] \n",
    "\n",
    "        n_stable_couples.append(len( set(observed_pairs(m_matrix)) & stable_matching ))\n",
    "        tau.append(1 if set(observed_pairs(m_matrix)) == stable_matching else 0 )\n",
    "\n",
    "    return observed_pairs(m_matrix), n_stable_couples, tau\n"
   ]
  },
  {
   "cell_type": "code",
   "execution_count": 155,
   "metadata": {},
   "outputs": [],
   "source": [
    "m, n, t = epsilon_greedy_no_prob(1000, 4)"
   ]
  },
  {
   "cell_type": "code",
   "execution_count": 156,
   "metadata": {},
   "outputs": [
    {
     "data": {
      "text/plain": [
       "[<matplotlib.lines.Line2D at 0x14e3dbf10>]"
      ]
     },
     "execution_count": 156,
     "metadata": {},
     "output_type": "execute_result"
    },
    {
     "data": {
      "image/png": "[encoded data removed]",
      "text/plain": [
       "<Figure size 432x288 with 1 Axes>"
      ]
     },
     "metadata": {
      "needs_background": "light"
     },
     "output_type": "display_data"
    }
   ],
   "source": [
    "plt.plot(n)"
   ]
  },
  {
   "cell_type": "code",
   "execution_count": 157,
   "metadata": {},
   "outputs": [
    {
     "data": {
      "text/plain": [
       "[<matplotlib.lines.Line2D at 0x14e4627d0>]"
      ]
     },
     "execution_count": 157,
     "metadata": {},
     "output_type": "execute_result"
    },
    {
     "data": {
      "image/png": "[encoded data removed]",
      "text/plain": [
       "<Figure size 432x288 with 1 Axes>"
      ]
     },
     "metadata": {
      "needs_background": "light"
     },
     "output_type": "display_data"
    }
   ],
   "source": [
    "plt.plot(t)"
   ]
  },
  {
   "cell_type": "code",
   "execution_count": null,
   "metadata": {},
   "outputs": [],
   "source": []
  }
 ],
 "metadata": {
  "kernelspec": {
   "display_name": "1_wk",
   "language": "python",
   "name": "1_wk"
  },
  "language_info": {
   "codemirror_mode": {
    "name": "ipython",
    "version": 3
   },
   "file_extension": ".py",
   "mimetype": "text/x-python",
   "name": "python",
   "nbconvert_exporter": "python",
   "pygments_lexer": "ipython3",
   "version": "3.10.4"
  }
 },
 "nbformat": 4,
 "nbformat_minor": 2
}
